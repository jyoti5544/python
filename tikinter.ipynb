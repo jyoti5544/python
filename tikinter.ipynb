{
 "cells": [
  {
   "cell_type": "code",
   "execution_count": null,
   "id": "cdc6bb45",
   "metadata": {},
   "outputs": [],
   "source": [
    "from tkinter import *\n",
    "import os\n",
    "top = Tk()\n",
    "top.geometry('800x500')\n",
    "top.config(bg='green')\n",
    "L = Label(top, text='Registrations', bg='green', fg='white', font=('arial 30 bold'))\n",
    "L.place(x=300, y=50)\n",
    "L2 = Label(top, text='Name', bg='green', fg='white', font=('arial 20 bold'))\n",
    "L2.place(x=200, y=150)\n",
    "e1 = Entry(top, font=('arial 20 bold'), fg='blue')\n",
    "e1.place(x=350, y=150)\n",
    "L3 = Label(top, text='Lastname', bg='green', fg='white', font=('arial 20 bold'))\n",
    "L3.place(x=200, y=200)\n",
    "e2 = Entry(top, font=('arial 20 bold'), fg='blue')\n",
    "e2.place(x=350, y=200)\n",
    "L4 = Label(top, text='Password', bg='green', fg='white', font=('arial 20 bold'))\n",
    "L4.place(x=200, y=250)\n",
    "e3 = Entry(top, font=('arial 20 bold'), show=\"*\", fg='blue')\n",
    "e3.place(x=350, y=250)\n",
    "b = Button(top, text=\"Submit\", bg=\"green\", fg='black', font=(\"aerial 20 bold\"), comman='insert')\n",
    "b.place(x=400, y=300)\n",
    "b1 = Button(top, text=\"Delete\", bg='green', font=('aerial 20 bold'), command='Delete')\n",
    "b1.place(x=403, y=360)\n",
    "L5 = Label(top, text='Result', fg='black', bg='red', font=('aerial 20 bold'))\n",
    "L5.place(x=600, y=360)\n",
    "\n",
    "top.mainloop()\n",
    "\n"
   ]
  },
  {
   "cell_type": "code",
   "execution_count": null,
   "id": "3b34bd0b",
   "metadata": {},
   "outputs": [],
   "source": []
  }
 ],
 "metadata": {
  "kernelspec": {
   "display_name": "Python 3 (ipykernel)",
   "language": "python",
   "name": "python3"
  },
  "language_info": {
   "codemirror_mode": {
    "name": "ipython",
    "version": 3
   },
   "file_extension": ".py",
   "mimetype": "text/x-python",
   "name": "python",
   "nbconvert_exporter": "python",
   "pygments_lexer": "ipython3",
   "version": "3.9.13"
  }
 },
 "nbformat": 4,
 "nbformat_minor": 5
}
