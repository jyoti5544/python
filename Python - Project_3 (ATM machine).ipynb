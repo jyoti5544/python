{
 "cells": [
  {
   "cell_type": "code",
   "execution_count": null,
   "id": "86b7debb",
   "metadata": {},
   "outputs": [
    {
     "name": "stdout",
     "output_type": "stream",
     "text": [
      "Welcome to SBI Bank !!\n",
      "Please enter the four digit pin : 8866\n",
      "Wrong pin number\n",
      "You have  2 chances left\n",
      "Would you like to exit? Yes/NoNo\n",
      "Please enter the four digit pin : 8899\n",
      "Wrong pin number\n",
      "You have  1 chances left\n",
      "Would you like to exit? Yes/NoNo\n",
      "Please enter the four digit pin : 5578\n",
      "Wrong pin number\n",
      "You have  0 chances left\n"
     ]
    }
   ],
   "source": [
    "print(\"Welcome to SBI Bank !!\")\n",
    "pin = 5678\n",
    "chances = 3\n",
    "balance = 50000\n",
    "while chances != 0:\n",
    "    user_pin = int(input(\"Please enter the four digit pin : \"))\n",
    "    if user_pin != pin :\n",
    "        chances -= 1\n",
    "        print(\"Wrong pin number\")\n",
    "        print(f\"You have  {chances} chances left\")\n",
    "    else:\n",
    "        user_choice = input(\"B : balance, D : deposit, W : withdraw\")\n",
    "        if user_choice == \"B\":\n",
    "            print(f\"Your total balance is Rs.{balance}\")\n",
    "            \n",
    "        if user_choice == \"D\":\n",
    "            deposit_user = int(input(\"Enter the amount that you would like to deposit : \"))\n",
    "            total_balance = deposit_user + balance\n",
    "            print(f\"You have deposited Rs.{deposit_user}\")\n",
    "            print(f\"Your total balance is Rs.{total_balance}\")\n",
    "        \n",
    "        if user_choice == \"W\":\n",
    "            withdraw_user = int(input(\"Enter the amount you want to withdraw : \"))\n",
    "            total_balance = balance - withdraw_user\n",
    "            print(\"You have withdraw Rs.{total_balance}\")\n",
    "            print(f\"Your total balance is Rs.{withdraw_user}\")\n",
    "    user_exit = input(\"Would you like to exit? Yes/No\")\n",
    "    if user_exit == \"Yes\":\n",
    "        print(\"Thankyou for using SBI Bank !!\")\n",
    "        break\n",
    "    else:\n",
    "        continue\n",
    "                        "
   ]
  },
  {
   "cell_type": "code",
   "execution_count": null,
   "id": "c4bd71c2",
   "metadata": {},
   "outputs": [],
   "source": []
  }
 ],
 "metadata": {
  "kernelspec": {
   "display_name": "Python 3 (ipykernel)",
   "language": "python",
   "name": "python3"
  },
  "language_info": {
   "codemirror_mode": {
    "name": "ipython",
    "version": 3
   },
   "file_extension": ".py",
   "mimetype": "text/x-python",
   "name": "python",
   "nbconvert_exporter": "python",
   "pygments_lexer": "ipython3",
   "version": "3.9.13"
  }
 },
 "nbformat": 4,
 "nbformat_minor": 5
}
